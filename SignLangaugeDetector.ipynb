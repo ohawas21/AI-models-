{
 "cells": [
  {
   "cell_type": "code",
   "execution_count": 1,
   "id": "bf647fad-06ec-456a-bb85-c1eec8604bd3",
   "metadata": {},
   "outputs": [
    {
     "name": "stdout",
     "output_type": "stream",
     "text": [
      "fatal: destination path 'RealTimeObjectDetection' already exists and is not an empty directory.\n"
     ]
    }
   ],
   "source": [
    "!git clone https://github.com/nicknochnack/RealTimeObjectDetection.git "
   ]
  },
  {
   "cell_type": "code",
   "execution_count": 2,
   "id": "f649c881-c5b3-4ea2-9902-ed99805999f1",
   "metadata": {},
   "outputs": [],
   "source": [
    "import cv2 \n",
    "import os \n",
    "import time \n",
    "import uuid "
   ]
  },
  {
   "cell_type": "code",
   "execution_count": 3,
   "id": "ad7d9af3-a69f-4421-8cd0-30808ed3f8a1",
   "metadata": {},
   "outputs": [],
   "source": [
    "IMAGES_PATH = '/Users/omar.hawas/images/collectedimages'"
   ]
  },
  {
   "cell_type": "code",
   "execution_count": 4,
   "id": "d10b761e-7b8d-4866-829e-b1284a698294",
   "metadata": {},
   "outputs": [],
   "source": [
    "#setting the classes labels that we will assign the images to \n",
    "labels = ['hello', 'thanks', 'yes', 'no', 'iloveyou']\n",
    "number_imgs=2\n"
   ]
  },
  {
   "cell_type": "code",
   "execution_count": 5,
   "id": "f264dc55-2830-420c-a21e-325b8c3f4ca2",
   "metadata": {},
   "outputs": [
    {
     "name": "stdout",
     "output_type": "stream",
     "text": [
      "Collecting images for hello\n",
      "Collecting images for thanks\n",
      "Collecting images for yes\n",
      "Collecting images for no\n",
      "Collecting images for iloveyou\n"
     ]
    }
   ],
   "source": [
    "#creating the loop to collect these images \n",
    "for label in labels:\n",
    "    !mkdir {'Users\\omar.hawas\\images\\collectedimages\\\\'+label}\n",
    "    cap = cv2.VideoCapture(0)\n",
    "    print('Collecting images for {}'. format(label))\n",
    "    time.sleep(5)\n",
    "    for imgnunm in range(number_imgs):\n",
    "        ret, frame = cap.read()\n",
    "        imagename = os.path.join(IMAGES_PATH, label, label +'.'+'{}.jpg'.format(str(uuid.uuid1())))\n",
    "        cv2.imwrite(imagename + '.jpg', frame) #imwrite is used mainly to save photos to files\n",
    "        cv2.imshow('frame', frame) #This function is used to display an image in a window\n",
    "        time.sleep(2) #is used to pause the execution of a program for a specified amount of time so that other operation scan be done in the pausing time \n",
    "\n",
    "        if cv2.waitKey(1) & 0xFF == ord('q'):  #waitKey() is often called to ensure the image window stays open for a specified amount of time, allowing the user to view the image. \n",
    "            break\n",
    "    cap.release() #it is eventually release our video collected \n",
    "    \n",
    "    "
   ]
  },
  {
   "cell_type": "code",
   "execution_count": 1,
   "id": "57f4a3f1-ebdf-4c13-b706-90b6bfa8967d",
   "metadata": {},
   "outputs": [
    {
     "data": {
      "text/plain": [
       "'/Users/omar.hawas/Documents'"
      ]
     },
     "execution_count": 1,
     "metadata": {},
     "output_type": "execute_result"
    }
   ],
   "source": [
    "pwd\n"
   ]
  },
  {
   "cell_type": "code",
   "execution_count": 2,
   "metadata": {},
   "outputs": [
    {
     "name": "stdout",
     "output_type": "stream",
     "text": [
      "/Users/omar.hawas/Documents/images\n"
     ]
    }
   ],
   "source": [
    "cd images"
   ]
  },
  {
   "cell_type": "code",
   "execution_count": null,
   "metadata": {},
   "outputs": [],
   "source": []
  }
 ],
 "metadata": {
  "kernelspec": {
   "display_name": "Python 3 (ipykernel)",
   "language": "python",
   "name": "python3"
  },
  "language_info": {
   "codemirror_mode": {
    "name": "ipython",
    "version": 3
   },
   "file_extension": ".py",
   "mimetype": "text/x-python",
   "name": "python",
   "nbconvert_exporter": "python",
   "pygments_lexer": "ipython3",
   "version": "3.11.5"
  }
 },
 "nbformat": 4,
 "nbformat_minor": 5
}
